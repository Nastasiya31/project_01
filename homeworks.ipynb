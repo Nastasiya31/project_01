{
  "nbformat": 4,
  "nbformat_minor": 0,
  "metadata": {
    "colab": {
      "provenance": [],
      "toc_visible": true,
      "authorship_tag": "ABX9TyPsry6a76Nzu17KmeZS6QqF",
      "include_colab_link": true
    },
    "kernelspec": {
      "name": "python3",
      "display_name": "Python 3"
    },
    "language_info": {
      "name": "python"
    }
  },
  "cells": [
    {
      "cell_type": "markdown",
      "metadata": {
        "id": "view-in-github",
        "colab_type": "text"
      },
      "source": [
        "<a href=\"https://colab.research.google.com/github/Nastasiya31/project_01/blob/main/homeworks.ipynb\" target=\"_parent\"><img src=\"https://colab.research.google.com/assets/colab-badge.svg\" alt=\"Open In Colab\"/></a>"
      ]
    },
    {
      "cell_type": "markdown",
      "source": [
        "# Задача 1.1"
      ],
      "metadata": {
        "id": "88xkaNT9x_0n"
      }
    },
    {
      "cell_type": "code",
      "source": [
        "# Есть строка с перечислением песен\n",
        "\n",
        "my_favorite_songs = 'Waste a Moment, Staying\\' Alive, A Sorta Fairyystale, Start Me Up, New Salvation'\n",
        "\n",
        "# Выведите на консоль с помощью индексации строки, последовательно: первый трек, последний, второй, второй с конца\n",
        "# Нельзя переопределять my_favorite_songs  и запятая не должна выводиться.\n",
        "\n",
        "\n",
        "# РЕШЕНИЕ:"
      ],
      "metadata": {
        "id": "3ZrtV_8AuOrr"
      },
      "execution_count": null,
      "outputs": []
    },
    {
      "cell_type": "code",
      "source": [
        "# первый трек\n",
        "my_favorite_songs.split(',')[0]"
      ],
      "metadata": {
        "colab": {
          "base_uri": "https://localhost:8080/",
          "height": 35
        },
        "id": "2EkOTc1GvpLW",
        "outputId": "3259d701-e84c-47d5-a557-906297ccb39f"
      },
      "execution_count": null,
      "outputs": [
        {
          "output_type": "execute_result",
          "data": {
            "text/plain": [
              "'Waste a Moment '"
            ],
            "application/vnd.google.colaboratory.intrinsic+json": {
              "type": "string"
            }
          },
          "metadata": {},
          "execution_count": 9
        }
      ]
    },
    {
      "cell_type": "code",
      "source": [
        "# последний трек\n",
        "my_favorite_songs.split(',')[4]"
      ],
      "metadata": {
        "colab": {
          "base_uri": "https://localhost:8080/",
          "height": 35
        },
        "id": "VgOMUPjPwA2r",
        "outputId": "86e18c92-76fb-440b-d15b-37902728228f"
      },
      "execution_count": null,
      "outputs": [
        {
          "output_type": "execute_result",
          "data": {
            "text/plain": [
              "' New Salvation'"
            ],
            "application/vnd.google.colaboratory.intrinsic+json": {
              "type": "string"
            }
          },
          "metadata": {},
          "execution_count": 11
        }
      ]
    },
    {
      "cell_type": "code",
      "source": [
        "# второй трек\n",
        "my_favorite_songs.split(',')[1]"
      ],
      "metadata": {
        "colab": {
          "base_uri": "https://localhost:8080/",
          "height": 35
        },
        "id": "2AzWwcKSwbXk",
        "outputId": "1c754c17-2feb-4591-cf6c-47deb1696c19"
      },
      "execution_count": null,
      "outputs": [
        {
          "output_type": "execute_result",
          "data": {
            "text/plain": [
              "\" Staying' Alive\""
            ],
            "application/vnd.google.colaboratory.intrinsic+json": {
              "type": "string"
            }
          },
          "metadata": {},
          "execution_count": 12
        }
      ]
    },
    {
      "cell_type": "code",
      "source": [
        "# второй трек с конца\n",
        "my_favorite_songs.split(',')[-2]"
      ],
      "metadata": {
        "colab": {
          "base_uri": "https://localhost:8080/",
          "height": 35
        },
        "id": "Fgg_yUXKwl9F",
        "outputId": "1af97311-43aa-41b0-d9ad-14283095e5ee"
      },
      "execution_count": null,
      "outputs": [
        {
          "output_type": "execute_result",
          "data": {
            "text/plain": [
              "' Start Me Up'"
            ],
            "application/vnd.google.colaboratory.intrinsic+json": {
              "type": "string"
            }
          },
          "metadata": {},
          "execution_count": 13
        }
      ]
    },
    {
      "cell_type": "markdown",
      "source": [
        "# Задача 1.2"
      ],
      "metadata": {
        "id": "X2KrMwhExN1I"
      }
    },
    {
      "cell_type": "code",
      "source": [
        "## Пункт B. \n",
        "# Есть словарь песен \n",
        "# Распечатайте общее время звучания трех случайных песен\n",
        "# Вывод: Три песни звучат ХХХ минут.\n",
        "\n",
        "my_favorite_songs_dict = {\n",
        "    'Waste a Moment': 3.03,\n",
        "    'New Salvation': 4.02,\n",
        "    'Staying\\' Alive': 3.40,\n",
        "    'Out of Touch': 3.03,\n",
        "    'A Sorta Fairytale': 5.28,\n",
        "    'Easy': 4.15,\n",
        "    'Beautiful Day': 4.04,\n",
        "    'Nowhere to Run': 2.58,\n",
        "    'In This World': 4.02,\n",
        "}\n",
        "# Решение\n",
        "summ = 0 # Вначале устанавливаю сумму равной нулю \n",
        "n = int(input(\"Сколько песен выбрать? \")) \n",
        "for i in range(n): \n",
        "    name = input(\"Название \"+str(i+1)+\" песни: \") \n",
        "    time = my_favorite_songs_dict[name] \n",
        "    summ = summ + time \n",
        "print(\"Общее время звучания песен:\",summ,\" минут\")"
      ],
      "metadata": {
        "id": "rRSG6YMUzE3j",
        "colab": {
          "base_uri": "https://localhost:8080/"
        },
        "outputId": "3e749e35-669b-46c2-a97a-c0f54bfae9bb"
      },
      "execution_count": null,
      "outputs": [
        {
          "output_type": "stream",
          "name": "stdout",
          "text": [
            "Сколько песен выбрать? 3\n",
            "Название 1 песни: Beautiful Day\n",
            "Название 2 песни: Waste a Moment\n",
            "Название 3 песни: Easy\n",
            "Общее время звучания песен: 11.22  минут\n"
          ]
        }
      ]
    },
    {
      "cell_type": "code",
      "source": [
        "# Пункт A. \n",
        "# Приведем плейлист песен в виде списка списков\n",
        "# Список my_favorite_songs содержит список названий и длительности каждого трека\n",
        "# Выведите общее время звучания трех случайных песен в формате\n",
        "# Три песни звучат ХХХ минут\n",
        "\n",
        "my_favorite_songs = [\n",
        "    ['Waste a Moment', 3.03],\n",
        "    ['New Salvation', 4.02],\n",
        "    ['Staying\\' Alive', 3.40],\n",
        "    ['Out of Touch', 3.03],\n",
        "    ['A Sorta Fairytale', 5.28],\n",
        "    ['Easy', 4.15],\n",
        "    ['Beautiful Day', 4.04],\n",
        "    ['Nowhere to Run', 2.58],\n",
        "    ['In This World', 4.02],\n",
        "]\n",
        "# Решение\n",
        "def main():\n",
        "    variable = 0\n",
        "    for i in my_favorite_songs:\n",
        "        print(i[0])\n",
        "        if i[0] == 'New Salvation':\n",
        "            variable += i[1]\n",
        "        elif i[0] == 'Out of Touch':\n",
        "            variable += i[1]\n",
        "        elif i[0] == 'Easy':\n",
        "            variable += i[1]\n",
        "    print(f\"Три песни звучат {variable} минут\")\n",
        "if __name__ == '__main__':\n",
        "    main()\n",
        "  "
      ],
      "metadata": {
        "colab": {
          "base_uri": "https://localhost:8080/"
        },
        "id": "eZbS6W_WLmNy",
        "outputId": "7b198627-948c-40f8-99ba-86bd85d60b52"
      },
      "execution_count": null,
      "outputs": [
        {
          "output_type": "stream",
          "name": "stdout",
          "text": [
            "Waste a Moment\n",
            "New Salvation\n",
            "Staying' Alive\n",
            "Out of Touch\n",
            "A Sorta Fairytale\n",
            "Easy\n",
            "Beautiful Day\n",
            "Nowhere to Run\n",
            "In This World\n",
            "Три песни звучат 11.2 минут\n"
          ]
        }
      ]
    },
    {
      "cell_type": "code",
      "source": [
        "# Пункт C.\n",
        "# Сгенерируйте  случайные песни с помощью модуля random\n",
        "# импортировать случайным образом\n",
        "my_favorite_songs={'Waste a Moment': 3.03,\n",
        "    'New Salvation': 4.02,\n",
        "    'Staying\\' Alive': 3.40,\n",
        "    'Out of Touch': 3.03,\n",
        "    'A Sorta Fairytale': 5.28,\n",
        "    'Easy': 4.15,\n",
        "    'Beautiful Day': 4.04,\n",
        "    'Nowhere to Run': 2.58,\n",
        "    'In This World': 4.02,\n",
        "}\n",
        "my_favorite_songs_lst=list(my_favorite_songs.items())\n",
        "import random\n",
        "random_songs=random.sample(my_favorite_songs_lst,3)\n",
        "print(random_songs)"
      ],
      "metadata": {
        "colab": {
          "base_uri": "https://localhost:8080/"
        },
        "id": "cwNAl_FpQ8W1",
        "outputId": "4cccfdb5-b716-4297-cc51-f89784a08c49"
      },
      "execution_count": null,
      "outputs": [
        {
          "output_type": "stream",
          "name": "stdout",
          "text": [
            "[('Out of Touch', 3.03), ('Beautiful Day', 4.04), ('Waste a Moment', 3.03)]\n"
          ]
        }
      ]
    },
    {
      "cell_type": "code",
      "source": [
        "# Пункт D.\n",
        "# Переведите минуты и секунды в формат времени. Используйте модуль datetime \n",
        "# Три песни звучат 11.2 минут\n",
        "import datetime\n",
        "sec= 672\n",
        "res = datetime.timedelta(seconds =sec)\n",
        "print(res)"
      ],
      "metadata": {
        "colab": {
          "base_uri": "https://localhost:8080/"
        },
        "id": "tYOh455V71yO",
        "outputId": "6efb8a5a-e34c-4b1d-f826-9c8078e4a07a"
      },
      "execution_count": null,
      "outputs": [
        {
          "output_type": "stream",
          "name": "stdout",
          "text": [
            "0:11:12\n"
          ]
        }
      ]
    },
    {
      "cell_type": "markdown",
      "source": [
        "# Задача 1.3"
      ],
      "metadata": {
        "id": "M8zfXeE7FwVd"
      }
    },
    {
      "cell_type": "code",
      "source": [
        "# Напишите скрипт, который принимает от пользователя номер месяца, \n",
        "# а возвращает количество дней в нем.\n",
        "# Результат проверки вывести на консоль\n",
        "# Допущение: в феврале 28 дней\n",
        "# Если номер месяца некорректен - сообщить об этом\n",
        "# Например,\n",
        "    # Введите номер месяца: 3\n",
        "    # Вы ввели март. 31 дней\n",
        "    # Введите номер месяца: 2\n",
        "    # Вы ввели февраль. 28 дней\n",
        "    # Введите номер месяца: 15\n",
        "    # Такого месяца нет!\n",
        "    \n",
        "# Решение:\n",
        "\n",
        "nb=int(input())\n",
        "m_th={1:'Январь-31 день', 2:'Февраль-28 день',3:'Март-31 день',4:'Апрель-30 дней', 5:'Май-31 день', 6:'Июнь-30 дней', 7:'Июль-31 день', 8:'Август-31 день', 9:'Сентябрь-30 дней', 10:'Октябрь-31 день', 11:'Ноябрь-30 дней', 12:'Декабрь-31 день'}\n",
        "if nb<13:\n",
        "  print(m_th[nb])\n",
        "else:print(\"Такого месяца нет\")"
      ],
      "metadata": {
        "colab": {
          "base_uri": "https://localhost:8080/"
        },
        "id": "5VpsOvhn_1mo",
        "outputId": "a97addeb-65e6-417e-8cea-6d95bfed4839"
      },
      "execution_count": null,
      "outputs": [
        {
          "output_type": "stream",
          "name": "stdout",
          "text": [
            "5\n",
            "Май-31 день\n"
          ]
        }
      ]
    },
    {
      "cell_type": "markdown",
      "source": [
        "# Задача 1.4"
      ],
      "metadata": {
        "id": "Wti1JBtYGfNw"
      }
    },
    {
      "cell_type": "code",
      "source": [
        "# Есть словарь кодов товаров titles\n",
        "\n",
        "titles = {\n",
        "    'Кроссовки тип 3 (Adidas)': '100000110',\n",
        "    'Мячик тип 2 (Adidas)': '100000146',\n",
        "    'Кепка тип 1 (Adidas)': '100000149',\n",
        "    'Ремень тип 2 (Nike)': '100000194',\n",
        "    'Футболка тип 1 (Adidas)': '100000224',\n",
        "    'Шапка тип 5 (Puma)': '100000280',\n",
        "}\n",
        "# Товары находятся на складе и сохранены в виде словаря списков словарей,\n",
        "# которые отражают количество товаров в магазине по каждому коду.\n",
        "store = {\n",
        "    '100000110': [{'quantity': 31, 'price': 1637}],\n",
        "    '100000146': [ {'quantity': 4, 'price': 45}, {'quantity': 10, 'price': 48}],\n",
        "    '100000149': [ {'quantity': 28, 'price': 279}, {'quantity': 32, 'price': 291}],\n",
        "    '100000194': [{'quantity': 8, 'price': 220}, {'quantity': 1, 'price': 170}],\n",
        "    '100000224': [{'quantity': 61, 'price': 438}, {'quantity': 23, 'price': 302},  {'quantity': 50, 'price': 412}],\n",
        "    '100000280': [{'quantity': 26, 'price': 175}, ]\n",
        "}\n",
        "# Рассчитайте на какую сумму лежит каждого товара на складе.\n",
        "#\n",
        "# Вывести суммарную стоимость каждого товара в магазине в формате:\n",
        "# \"<товар> - <кол-во> шт, стоимость <общая стоимость> руб\"\n",
        "# Пример: \"Кроссовки тип 3 (Adidas) - 31 шт, стоимость 50747 руб\"\n",
        "\n",
        "#Решение:\n",
        "\n",
        "for name_titles in titles:\n",
        "    code_titles = titles[name_titles]\n",
        "    total_price = 0\n",
        "    total_quantity = 0\n",
        "    for quantity_price in store[code_titles]:\n",
        "        total_price = total_price + quantity_price['quantity'] * quantity_price['price']\n",
        "        total_quantity += quantity_price['quantity']\n",
        "    print(name_titles, '-', total_quantity, 'шт, общей стоимостью', total_price, 'рублей.')"
      ],
      "metadata": {
        "colab": {
          "base_uri": "https://localhost:8080/"
        },
        "id": "HrpW1bUWGkpK",
        "outputId": "ee311538-faa2-465e-a59f-bb791688eb72"
      },
      "execution_count": null,
      "outputs": [
        {
          "output_type": "stream",
          "name": "stdout",
          "text": [
            "Кроссовки тип 3 (Adidas) - 31 шт, общей стоимостью 50747 рублей.\n",
            "Мячик тип 2 (Adidas) - 14 шт, общей стоимостью 660 рублей.\n",
            "Кепка тип 1 (Adidas) - 60 шт, общей стоимостью 17124 рублей.\n",
            "Ремень тип 2 (Nike) - 9 шт, общей стоимостью 1930 рублей.\n",
            "Футболка тип 1 (Adidas) - 134 шт, общей стоимостью 54264 рублей.\n",
            "Шапка тип 5 (Puma) - 26 шт, общей стоимостью 4550 рублей.\n"
          ]
        }
      ]
    },
    {
      "cell_type": "markdown",
      "source": [
        "# Задача 2.1"
      ],
      "metadata": {
        "id": "eH6Cvff2IcdS"
      }
    },
    {
      "cell_type": "code",
      "source": [
        "# Задача 2.1. \n",
        "\n",
        "# Создайте две функции maximum и minimum,\n",
        "# которые получают список целых чисел в качестве входных данных \n",
        "# и возвращают наибольшее и наименьшее число в этом списке соответственно.\n",
        "# Например,\n",
        "# * [4,6,2,1,9,63,-134,566]         -> max = 566, min = -134\n",
        "# * [-52, 56, 30, 29, -54, 0, -110] -> min = -110, max = 56\n",
        "# * [42, 54, 65, 87, 0]             -> min = 0, max = 87\n",
        "# * [5]                             -> min = 5, max = 5\n",
        "# функции max и min использовать нельзя!\n",
        "\n",
        "# Решение\n",
        "\n",
        "A=[10, -7, 135, 9, 76, 86, 4, 666]\n",
        "m_max = A[0]\n",
        "m_min = A[0]\n",
        "for i in A:\n",
        "    if m_max < i:\n",
        "        m_max = i\n",
        "    if m_min > i:\n",
        "        m_min = i\n",
        "\n",
        "print(f'Максимальное: {m_max}' , f'Минимальное: {m_min}' )\n",
        "\n"
      ],
      "metadata": {
        "colab": {
          "base_uri": "https://localhost:8080/"
        },
        "id": "nwsh4NOwIolJ",
        "outputId": "39777263-c80a-4f20-a26f-8038a6ce6e5a"
      },
      "execution_count": null,
      "outputs": [
        {
          "output_type": "stream",
          "name": "stdout",
          "text": [
            "Максимальное: 666 Минимальное: -7\n"
          ]
        }
      ]
    },
    {
      "cell_type": "markdown",
      "source": [
        "# Задача 2.2"
      ],
      "metadata": {
        "id": "rXMFF-ZIYVxq"
      }
    },
    {
      "cell_type": "code",
      "source": [
        "# Напишите функцию, которая возвращает номер квартал по номеру месяца\n",
        "# Например: \n",
        "# месяц 2 (февраль) является частью первого квартала; \n",
        "# месяц 6 (июнь) является частью второго квартала; \n",
        "# месяц 11 (ноябрь) является частью четвертого квартала.\n",
        "\n",
        "# Решение\n",
        "\n",
        "def get_quarter(month):\n",
        "    quarter_dictionary = {\n",
        "        \"Q1\" : [1, 2, 3],\n",
        "        \"Q2\" : [4, 5, 6],\n",
        "        \"Q3\" : [7, 8, 9],\n",
        "        \"Q4\" : [10, 11, 12]}\n",
        "\n",
        "    for key,values in quarter_dictionary.items():\n",
        "        for value in values:\n",
        "            if value == month:\n",
        "                return key\n",
        "\n",
        "print(get_quarter(5))"
      ],
      "metadata": {
        "id": "jXVPXgePYaCV",
        "colab": {
          "base_uri": "https://localhost:8080/"
        },
        "outputId": "76b222a0-6a94-4d74-c84b-b57185ef76a2"
      },
      "execution_count": null,
      "outputs": [
        {
          "output_type": "stream",
          "name": "stdout",
          "text": [
            "Q2\n"
          ]
        }
      ]
    },
    {
      "cell_type": "markdown",
      "source": [
        "# Задача 2.3\n"
      ],
      "metadata": {
        "id": "g1qZ9w9kHlnW"
      }
    },
    {
      "cell_type": "code",
      "source": [
        "# Напишите функцию, которая принимает цифры от 0 до 9 и возвращает значение прописью.\n",
        "# Например,\n",
        "# switch_it_up(1) -> 'One'\n",
        "# switch_it_up(3) -> 'Three'\n",
        "# switch_it_up(10000) -> None\n",
        "# Использовать условный оператор if-elif-else нельзя!\n",
        "\n",
        "# Решение:\n",
        "New_words = input('New: ')\n",
        "numbered_words = {\n",
        "    '0': 'zero',\n",
        "    '1': 'one',\n",
        "    '2': 'two',\n",
        "    '3': 'three',\n",
        "    '4': 'four',\n",
        "    '5': 'five',\n",
        "    '6': 'six',\n",
        "    '7': 'seven',\n",
        "    '8': 'eight',\n",
        "    '9': 'nine'\n",
        "}\n",
        "output = \"\"\n",
        "for ch in New_words:\n",
        "    output += numbered_words.get(ch, \"!\") + \" \"\n",
        "New_words = numbered_words\n",
        "\n",
        "print(output)"
      ],
      "metadata": {
        "colab": {
          "base_uri": "https://localhost:8080/"
        },
        "id": "75i7pS_wHvT0",
        "outputId": "db40842b-c2ad-4fc8-e276-a33ed472a0ec"
      },
      "execution_count": null,
      "outputs": [
        {
          "output_type": "stream",
          "name": "stdout",
          "text": [
            "New: 0\n",
            "zero \n"
          ]
        }
      ]
    },
    {
      "cell_type": "markdown",
      "source": [
        "# Задача 2.4"
      ],
      "metadata": {
        "id": "T24mHfizMSkZ"
      }
    },
    {
      "cell_type": "code",
      "source": [
        "# Задача 2.4.\n",
        "\n",
        "# Пункт A.\n",
        "# Напишите функцию, которая удаляет все восклицательные знаки из заданной строк.\n",
        "# Например,\n",
        "# foo(\"Hi! Hello!\") -> \"Hi Hello\"\n",
        "# foo(\"\") -> \"\"\n",
        "# foo(\"Oh, no!!!\") -> \"Oh, no\"\n",
        "\n",
        "def remove_exclamation_marks(s):\n",
        "    pass\n",
        "\n",
        "# Решение:\n",
        "\n",
        "import re\n",
        " \n",
        "if __name__ == '__main__':\n",
        " \n",
        "    s = 'Hi! Hello!'\n",
        " \n",
        "    s = re.sub(r'[.,\"\\'-?:!;]', '', s)\n",
        "    print(s)   \n"
      ],
      "metadata": {
        "colab": {
          "base_uri": "https://localhost:8080/"
        },
        "id": "w1tdOCGjMZWY",
        "outputId": "82786d0a-e5f6-4a60-c08d-0c6a676d1943"
      },
      "execution_count": null,
      "outputs": [
        {
          "output_type": "stream",
          "name": "stdout",
          "text": [
            "Hi Hello\n"
          ]
        }
      ]
    },
    {
      "cell_type": "code",
      "source": [
        "# Пункт B.\n",
        "# Удалите восклицательный знак из конца строки. \n",
        "# remove(\"Hi!\") == \"Hi\"\n",
        "# remove(\"Hi!!!\") == \"Hi!!\"\n",
        "# remove(\"!Hi\") == \"!Hi\"\n",
        "\n",
        "def remove_last_em(s):\n",
        "    pass\n",
        "\n",
        "\n",
        "import string\n",
        "print('Hi!!!'.rstrip(string.punctuation))"
      ],
      "metadata": {
        "colab": {
          "base_uri": "https://localhost:8080/"
        },
        "id": "VzfNDugROhue",
        "outputId": "c2e3ece1-dd6e-4172-ef4a-4974c44b1994"
      },
      "execution_count": null,
      "outputs": [
        {
          "output_type": "stream",
          "name": "stdout",
          "text": [
            "Hi\n"
          ]
        }
      ]
    },
    {
      "cell_type": "code",
      "source": [
        "# Пункт С.\n",
        "# Удалите слова из предложения, если они содержат ровно один восклицательный знак.\n",
        "# Слова разделены одним пробелом.\n",
        "# Например,\n",
        "# remove(\"Hi!\") === \"\"\n",
        "# remove(\"Hi! Hi!\") === \"\"\n",
        "# remove(\"Hi! Hi! Hi!\") === \"\"\n",
        "# remove(\"Hi Hi! Hi!\") === \"Hi\"\n",
        "# remove(\"Hi! !Hi Hi!\") === \"\"\n",
        "# remove(\"Hi! Hi!! Hi!\") === \"Hi!!\"\n",
        "# remove(\"Hi! !Hi! Hi!\") === \"!Hi!\"\n",
        "\n",
        "def remove_word_with_one_em(s):\n",
        "    pass\n",
        "\n",
        "    #Решение\n",
        "text = {\"Hi!\", \"Hi\",\n",
        "    \"Hi!!!\",\"Hi!!\",\n",
        "    \"!Hi\", \"!Hi\",\n",
        "    \"!Hi!\", \"!Hi\",}\n",
        "import re\n",
        "re.sub(r' (\\b\\w+)\\s+\\1', r'\\1', text)\n",
        "    "
      ],
      "metadata": {
        "id": "l94UzC20Rkcw",
        "colab": {
          "base_uri": "https://localhost:8080/",
          "height": 356
        },
        "outputId": "167af84b-64c3-4e65-e1e4-025bf1a41461"
      },
      "execution_count": null,
      "outputs": [
        {
          "output_type": "error",
          "ename": "TypeError",
          "evalue": "ignored",
          "traceback": [
            "\u001b[0;31m---------------------------------------------------------------------------\u001b[0m",
            "\u001b[0;31mTypeError\u001b[0m                                 Traceback (most recent call last)",
            "\u001b[0;32m<ipython-input-39-f040ce999356>\u001b[0m in \u001b[0;36m<cell line: 22>\u001b[0;34m()\u001b[0m\n\u001b[1;32m     20\u001b[0m     \"!Hi!\", \"!Hi\",}\n\u001b[1;32m     21\u001b[0m \u001b[0;32mimport\u001b[0m \u001b[0mre\u001b[0m\u001b[0;34m\u001b[0m\u001b[0;34m\u001b[0m\u001b[0m\n\u001b[0;32m---> 22\u001b[0;31m \u001b[0mre\u001b[0m\u001b[0;34m.\u001b[0m\u001b[0msub\u001b[0m\u001b[0;34m(\u001b[0m\u001b[0;34mr' (\\b\\w+)\\s+\\1'\u001b[0m\u001b[0;34m,\u001b[0m \u001b[0;34mr'\\1'\u001b[0m\u001b[0;34m,\u001b[0m \u001b[0mtext\u001b[0m\u001b[0;34m)\u001b[0m\u001b[0;34m\u001b[0m\u001b[0;34m\u001b[0m\u001b[0m\n\u001b[0m\u001b[1;32m     23\u001b[0m \u001b[0;34m\u001b[0m\u001b[0m\n",
            "\u001b[0;32m/usr/lib/python3.10/re.py\u001b[0m in \u001b[0;36msub\u001b[0;34m(pattern, repl, string, count, flags)\u001b[0m\n\u001b[1;32m    207\u001b[0m     \u001b[0ma\u001b[0m \u001b[0mcallable\u001b[0m\u001b[0;34m,\u001b[0m \u001b[0mit\u001b[0m\u001b[0;31m'\u001b[0m\u001b[0ms\u001b[0m \u001b[0mpassed\u001b[0m \u001b[0mthe\u001b[0m \u001b[0mMatch\u001b[0m \u001b[0mobject\u001b[0m \u001b[0;32mand\u001b[0m \u001b[0mmust\u001b[0m \u001b[0;32mreturn\u001b[0m\u001b[0;34m\u001b[0m\u001b[0;34m\u001b[0m\u001b[0m\n\u001b[1;32m    208\u001b[0m     a replacement string to be used.\"\"\"\n\u001b[0;32m--> 209\u001b[0;31m     \u001b[0;32mreturn\u001b[0m \u001b[0m_compile\u001b[0m\u001b[0;34m(\u001b[0m\u001b[0mpattern\u001b[0m\u001b[0;34m,\u001b[0m \u001b[0mflags\u001b[0m\u001b[0;34m)\u001b[0m\u001b[0;34m.\u001b[0m\u001b[0msub\u001b[0m\u001b[0;34m(\u001b[0m\u001b[0mrepl\u001b[0m\u001b[0;34m,\u001b[0m \u001b[0mstring\u001b[0m\u001b[0;34m,\u001b[0m \u001b[0mcount\u001b[0m\u001b[0;34m)\u001b[0m\u001b[0;34m\u001b[0m\u001b[0;34m\u001b[0m\u001b[0m\n\u001b[0m\u001b[1;32m    210\u001b[0m \u001b[0;34m\u001b[0m\u001b[0m\n\u001b[1;32m    211\u001b[0m \u001b[0;32mdef\u001b[0m \u001b[0msubn\u001b[0m\u001b[0;34m(\u001b[0m\u001b[0mpattern\u001b[0m\u001b[0;34m,\u001b[0m \u001b[0mrepl\u001b[0m\u001b[0;34m,\u001b[0m \u001b[0mstring\u001b[0m\u001b[0;34m,\u001b[0m \u001b[0mcount\u001b[0m\u001b[0;34m=\u001b[0m\u001b[0;36m0\u001b[0m\u001b[0;34m,\u001b[0m \u001b[0mflags\u001b[0m\u001b[0;34m=\u001b[0m\u001b[0;36m0\u001b[0m\u001b[0;34m)\u001b[0m\u001b[0;34m:\u001b[0m\u001b[0;34m\u001b[0m\u001b[0;34m\u001b[0m\u001b[0m\n",
            "\u001b[0;31mTypeError\u001b[0m: expected string or bytes-like object"
          ]
        }
      ]
    },
    {
      "cell_type": "markdown",
      "source": [
        "# Задача 3.1.\n"
      ],
      "metadata": {
        "id": "3FgQhRn9HUIk"
      }
    },
    {
      "cell_type": "code",
      "source": [
        "# Задача 3.1.\n",
        "# Создайте класс матрицы (или таблицы).\n",
        "# Требования к классу:\n",
        "# - каждая колонка является числом от 1 до n (n любое число, которые вы поставите!)\n",
        "# - в каждой ячейке содержится либо число, либо None\n",
        "# - доступы следующие методы матрицы:\n",
        "# * принимать новые значения, \n",
        "# * заменять существующие значения, \n",
        "# * выводить число строк и колонок.\n",
        "\n",
        "# Пример матрицы 10 на 10 из единиц:\n",
        "# [[1, 1, 1, 1, 1, 1, 1, 1, 1, 1],\n",
        "#  [1, 1, 1, 1, 1, 1, 1, 1, 1, 1],\n",
        "#  [1, 1, 1, 1, 1, 1, 1, 1, 1, 1],\n",
        "#  [1, 1, 1, 1, 1, 1, 1, 1, 1, 1],\n",
        "#  [1, 1, 1, 1, 1, 1, 1, 1, 1, 1],\n",
        "#  [1, 1, 1, 1, 1, 1, 1, 1, 1, 1],\n",
        "#  [1, 1, 1, 1, 1, 1, 1, 1, 1, 1],\n",
        "#  [1, 1, 1, 1, 1, 1, 1, 1, 1, 1],\n",
        "#  [1, 1, 1, 1, 1, 1, 1, 1, 1, 1],\n",
        "#  [1, 1, 1, 1, 1, 1, 1, 1, 1, 1]]\n",
        "\n",
        "# Примечание! \n",
        "# - новый класс не запрещено строить на базе существующих типов данных: списков, словарей и тд.\n",
        "# - отображать в таблице/матрице название колонки не обязательно!\n",
        "# - использовать готовые классы numpy.array() и pandas.DataFrame() запрещено!\n",
        "# - проявите фантазию :)\n",
        "\n",
        "#Решение\n",
        "\n",
        "size = int(input('Введите размер таблицы: '))\n",
        "for row in range(1, size + 1):\n",
        "    for col in range(1, size + 1):\n",
        "        if row % 2 == 0:\n",
        "            print(row, end='\\t')\n",
        "        else:\n",
        "            print(col, end='\\t')\n",
        "    print()"
      ],
      "metadata": {
        "colab": {
          "base_uri": "https://localhost:8080/"
        },
        "id": "vY3BukxkHbnX",
        "outputId": "ad5ec5ec-67d7-4ce6-fbd0-9005bbf9f6ee"
      },
      "execution_count": null,
      "outputs": [
        {
          "output_type": "stream",
          "name": "stdout",
          "text": [
            "Введите размер таблицы: 7\n",
            "1\t2\t3\t4\t5\t6\t7\t\n",
            "2\t2\t2\t2\t2\t2\t2\t\n",
            "1\t2\t3\t4\t5\t6\t7\t\n",
            "4\t4\t4\t4\t4\t4\t4\t\n",
            "1\t2\t3\t4\t5\t6\t7\t\n",
            "6\t6\t6\t6\t6\t6\t6\t\n",
            "1\t2\t3\t4\t5\t6\t7\t\n"
          ]
        }
      ]
    },
    {
      "cell_type": "markdown",
      "source": [
        "# Задача 4.1"
      ],
      "metadata": {
        "id": "etGt4xiDOOrg"
      }
    },
    {
      "cell_type": "code",
      "source": [
        "# Задача 4.1.\n",
        "# Домашнее задание на SQL\n",
        "\n",
        "# В базе данных teacher создайте таблицу Students\n",
        "\n",
        "# Структура таблицы: Student_Id - Integer, Student_Name - Text, School_Id - Integer (Primary key)\n",
        "\n",
        "# Наполните таблицу следующими данными:\n",
        "\n",
        "# 201, Иван, 1\n",
        "# 202, Петр, 2\n",
        "# 203, Анастасия, 3\n",
        "# 204, Игорь, 4\n",
        "\n",
        "# Напишите программу, с помощью которой по ID студента можно получать информацию о школе и студенте.\n",
        "\n",
        "# Формат вывода:\n",
        "\n",
        "# ID Студента:\n",
        "# Имя студента:\n",
        "# ID школы:\n",
        "# Название школы:\n",
        "\n",
        "#Решение\n",
        "\n",
        "import sqlite3\n",
        "import pandas as pd\n",
        "con = sqlite3.connect(\"teachers(1).db\")\n",
        "df.to.exel(\"students.xlsx\",)"
      ],
      "metadata": {
        "id": "l8ILIMl8Om16"
      },
      "execution_count": null,
      "outputs": []
    }
  ]
}